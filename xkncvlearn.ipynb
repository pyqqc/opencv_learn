#%% [markdown]
#  #  基本语句复习

#%%
print("hello world")


#%%
f=open("roof.csv","w")
data="1,0,0,0,0,0,0,0,0,0\n0,0,0,0,0,0,0,0,0,0\n0,0,0,0,0,0,0,0,0,0\n0,0,0,0,0,0,0,0,0,0\n0,0,0,0,0,0,0,0,0,0\n0,0,0,0,0,0,0,0,0,0\n0,0,0,0,0,0,0,0,0,0\n0,0,0,0,0,0,0,0,0,0\n0,0,0,0,0,0,0,0,0,0\n0,0,0,0,0,0,0,0,0,0\n"
f.write(data)
f.close()


#%%
for i in range(10):
    print("hello world",i)

#%% [markdown]
#  ## 插入一张图
#%% [markdown]
#  ![](123.jpg)
#%% [markdown]
#  ## 显示一张图，按任意键返回

#%%
import numpy as np
import cv2
img=cv2.imread("123.jpg")

cv2.namedWindow('image', cv2.WINDOW_NORMAL)
cv2.imshow("image",img)

cv2.waitKey(0)
cv2.destroyAllWindows()

#%% [markdown]
#  ## 显示一张图，按q键返回,每1000毫秒检测一次

#%%
import numpy as np
import cv2
img=cv2.imread("123.jpg",0)
print("hello")

while(True):
    cv2.namedWindow('image', cv2.WINDOW_NORMAL)
    cv2.imshow("image",img)
    print("show")
    if cv2.waitKey(1000) & 0xFF == ord('q'):
         break;

cv2.destroyAllWindows()

#%% [markdown]
#  ## 抓取摄像头一张图，显示出来，按q键返回,每1000毫秒检测一次
# 

#%%
import numpy as np
import cv2
cap = cv2.VideoCapture(0)
while(True):
    ret, frame = cap.read()
    cv2.imshow('my_frame',frame)
    if cv2.waitKey(1000) & 0xFF == ord('q'):
        break
        
cap.release()
cv2.destroyAllWindows()

#%% [markdown]
#  #  刘鑫华的代码

#%%
import numpy as np
import cv2
cap = cv2.VideoCapture(0)
while(True):
    ret, frame = cap.read()
    cv2.imshow('my_frame',frame)
    if cv2.waitKey(1000) & 0xFF == ord('q'):
        break
        
cap.release()
cv2.destroyAllWindows()

#%% [markdown]
#  # 倪晨阳的代码
# 

#%%
import numpy as np
import cv2


cap=cv2.VideoCapture(0)
ret,frame= cap.read()

L=len(frame)
W=len(frame[0])

print(L,W)

SIZE=100

xo=int(W/2-1.5*SIZE)
yo=int(L/2-1.5*SIZE)

while(True):
    ret,frame = cap.read()
    for i in range(3):
        for j in range(3):
            cv2.rectangle(frame,(i*100+xo,j*100+yo),(i*100+100+xo,j*100+100+yo),(255,128,255),5)
    cv2.imshow('my_frame',frame)
    if cv2.waitKey(1000)&0xFF==ord('p'):
        break
cap.release()
cv2.destroyAllWindows()


#%%
import numpy as np
import cv2

cap=cv2.VideoCapture(0)
ret,frame = cap.read()

L=len(frame)
W=len(frame[0])

print(L,W)

SIZE=100

X0=int(W/2-1.5*SIZE)
Y0=int(L/2-1.5*SIZE)

chessboard=[[0,0,0],[0,0,0],[0,0,0]]

print(chessboard)

def mouse_dclick(event,x,y,flags,param):
    print("get double click",x,y)
    if x>X0 and y>Y0 and x<(X0+SIZE*3) and y<(Y0+SIZE*3):
        i=int((x-X0)/SIZE)
        j=int((y-Y0)/SIZE)
        print(i,j)
        if event==cv2.EVENT_LBUTTONDBLCLK:
            print("get L dbl click")
            chessboard[i][j]=1
        if event==cv2.EVENT_RBUTTONDBLCLK:
            chessboard[i][j]=2
            print("get R dbl click")
            
        print(chessboard)

cv2.namedWindow('frame')
cv2.setMouseCallback('frame',mouse_dclick)

while(True):
    ret,frame = cap.read()
    for i in range(3):
        for j in range(3):
            cv2.rectangle(frame,(i*SIZE+X0,j*SIZE+Y0),(i*SIZE+SIZE+X0,j*SIZE+SIZE+Y0),(255,128,255),2)
            if chessboard[i][j]==1:
                R=int(SIZE/2)
                cv2.circle(frame,(i*SIZE+X0+R,j*SIZE+Y0+R),R,(255,0,0),-1)
            elif chessboard[i][j]==2:
                R=int(SIZE/2)
                cv2.circle(frame,(i*SIZE+X0+R,j*SIZE+Y0+R),R,(255,0,0),1)
                
                
    cv2.imshow('frame',frame)
    if cv2.waitKey(1000)&0xFF==ord('q'):
        break
cap.release()
cv2.destroyAllWindows()


#%%
import numpy as np
import cv2
cap = cv2.VideoCapture(0)
while(True):
    ret, frame = cap.read()
    cv2.imshow('my_frame',frame)
    if cv2.waitKey(1000) & 0xFF == ord('q'):
        break

cap.release()
cv2.destoryAllWindows()


#%%
import numpy as np
import cv2
cap=cv2.VideoCapture(0)
while(True):
    ret,frame = cap.read()
    for i in range(3):
        for j in range(3):
            cv2.rectangle(frame,(i*100,j*100),(i*100+100,j*100+100),(255,128,255),5)  
    print(len(frame))
    print(len(frame[0]))
    cv2.imshow('my_frame',frame)
    if cv2.waitKey(1000)&0xFF==ord('p'):
        break
cap.release()
cv2.destoryAllWindows()


#%%
import numpy as np
import cv2

cap=cv2.VideoCapture(0)
ret,frame = cap.read()

L=len(frame)
W=len(frame[0])

print(L,W)

SIZE=100

X0=int(W/2-1.5*SIZE)
Y0=int(L/2-1.5*SIZE)

chessboard=[[0,0,0],[0,0,0],[0,0,0]]

print(chessboard)

def mouse_dclick(event,x,y,flags,param):
    global playsteps
    if event==cv2.EVENT_LBUTTONDBLCLK:
        if x>X0 and y>Y0 and x<(X0+SIZE*3) and y<(Y0+SIZE*3):
            i=int((x-X0)/SIZE)
            j=int((y-Y0)/SIZE)
            if chessboard[i][j]==0:
                player=playsteps%2+1
                print("mc",player)
                chessboard[i][j]=player
                playsteps+=1


cv2.namedWindow('frame')
cv2.setMouseCallback('frame',mouse_dclick)

while(True):
    ret,frame = cap.read()
    for i in range(3):
        for j in range(3):
            cv2.rectangle(frame,(i*SIZE+X0,j*SIZE+Y0),(i*SIZE+SIZE+X0,j*SIZE+SIZE+Y0),(255,128,255),2)
            if chessboard[i][j]==1:
                R=int(SIZE/2)
                cv2.circle(frame,(i*SIZE+X0+R,j*SIZE+Y0+R),R,(255,0,0),-1)
            elif chessboard[i][j]==2:
                R=int(SIZE/2)
                cv2.circle(frame,(i*SIZE+X0+R,j*SIZE+Y0+R),R,(255,0,0),1)
                
                
    cv2.imshow('frame',frame)
    if cv2.waitKey(1000)&0xFF==ord('q'):
        break
cap.release()
cv2.destroyAllWindows()

#%% [markdown]
#  # 刘彦博的代码

#%%
import numpy as np
import cv2
cap=cv2.VideoCapture(0)
ret,frame=cap.read()
L=len(frame)
W=len(frame[0])
print(L,W)
SIZE=100
XO=int(W/2-1.5*SIZE)
YO=int(L/2-1.5*SIZE)

while(True):
    ret, frame = cap.read()
    for i in range(3):
        for j in range(3):
            cv2.rectangle(frame,(i*SIZE+XO,j*SIZE+YO),(i*SIZE+SIZE+XO,j*SIZE+SIZE+YO),(255,188,255),)
    cv2.imshow('frame',frame)
    if cv2.waitKey(1000)&0xFF==ord('q'):
        break
    cap.release()
    cv2,destroyAllWindows()


#%%
import numpy as np
import cv2
cap=cv2.VideoCapture(0)
while(True):
    ret, frame = cap.read()
    for i in range(3):
        for j in range(3):
            
            cv2.rectangle(frame,(i*100,j*100),(i*100+100,j*100+100),(255,128,255),5)
    print(len(frame))
    print(len(frame[0]))
    cv2.imshow('my_frame',frame)
    if cv2.waitKey(1000)&0xFF==ord('q'):
        break
cap.release()
cv2.destroyAllWindows()

#%% [markdown]
#  # 朱传义

#%%
import numpy as np
import cv2
cap = cv2.VideoCapture(0)
while(True):
    ret,frame = cap.read()
    cv2.imshow('my_frame',frame)
    if cv2.waitKey(1000) & 0xFF == ord('q'):
        break

cap.release()
cv2.destroyAllWindows()

#%% [markdown]
#  ## 在视频左上角添加一个矩形白框,框的粗细为5个像素

#%%
import numpy as np
import cv2
cap = cv2.VideoCapture(0)
while(True):
    ret, frame = cap.read()
    cv2.rectangle(frame,(0,0),(100,100),(255,128,255),5)
    print(len(frame))
    print(len(frame[0]))
    cv2.imshow('my_frame',frame)
    if cv2.waitKey(1000) & 0xFF == ord('q'):
        break
cap.release()
cv2.destroyAllWindows()

#%% [markdown]
#  ## 在视频正中间画一个正方形的绿框,用len获得长宽

#%%
import numpy as np
import cv2
cap = cv2.VideoCapture(0)
while(True):
    ret, frame = cap.read()
    lenth=int(len(frame[0]))
    width=int(len(frame))
    print("lenth",lenth,"witdth",width)
    cv2.rectangle(frame,(int(lenth/2-50),int(width/2-50)),(int(lenth/2+50),int(width/2+50)),(25,128,25),5)
    cv2.imshow('frame',frame)
    if cv2.waitKey(1000) & 0xFF == ord('q'):
        break
        
cap.release()
cv2.destroyAllWindows()

#%% [markdown]
#  ## 双击鼠标左键，在中心点画一个圆 ,再次双击消失

#%%
import numpy as np
import cv2
import time
cap = cv2.VideoCapture(0)

#显示所有事件
events=[i for i in dir(cv2) if 'EVENT'in i]
print(events)

havedoubleclick=0

def draw_circle(event,x,y,flags,param):
    global havedoubleclick
    if event==cv2.EVENT_LBUTTONDBLCLK:
        havedoubleclick+=1
#       print("get double click")
        
ret, frame = cap.read()
# 创建图像与窗口并将窗口与回调函数绑定
cv2.namedWindow('frame')
cv2.setMouseCallback('frame',draw_circle)

while(True):
    ret, frame = cap.read()
    lenth=int(len(frame[0]))
    width=int(len(frame))
    cv2.rectangle(frame,(int(lenth/2-50),int(width/2-50)),(int(lenth/2+50),int(width/2+50)),(25,128,25),5)
    if havedoubleclick %2 == 0:
        cv2.circle(frame,(int(lenth/2),int(width/2)),100,(255,0,0),-1)        
    cv2.imshow('frame',frame)
    if cv2.waitKey(1000) & 0xFF == ord('q'):
        break
        
cap.release()
cv2.destroyAllWindows()

#%% [markdown]
#  # 在图像中截取一个矩形，在另一个窗口显示，保存到另一个文件

#%%
import numpy as np
import cv2
img=cv2.imread("123.jpg")

cv2.namedWindow('image', cv2.WINDOW_NORMAL)
cv2.imshow("image",img)

cropImg=img[300:400,0:100]
cv2.namedWindow('imagecrop', cv2.WINDOW_NORMAL)
cv2.imshow("imagecrop",cropImg)

cv2.imwrite("crop.jpg",cropImg) 

cv2.waitKey(0)
cv2.destroyAllWindows()

#%% [markdown]
#  # 将一个大图像保存为10x10个小图像文件

#%%
import numpy as np
import cv2

img=cv2.imread("123.jpg")

lenth=len(img)
width=len(img[0])

print("lenth",lenth)
print("width",width)

L=int(lenth/10)
W=int(width/10)

cv2.namedWindow('image', cv2.WINDOW_NORMAL)

for ln in range(10):
    for wn in range(10):
        cropImg=img[ln*L:(ln+1)*L,wn*W:(wn+1)*W]
        cv2.imshow("image",cropImg)
        cv2.waitKey(100)        
        filename="crop"+str(ln)+str(wn)+".jpg"
        print(filename)
        cv2.imwrite(filename,cropImg) 

cv2.destroyAllWindows()

#%% [markdown]
#  # 用滑动条做调色板
# 
#  cv2.getTrackbarPos() 函数的一个参数是滑动条的名字，第二个参数
#  是滑动条被放置窗口的名字，第三个参数是滑动条的默认位置。第四个参数是
#  滑动条的最大值，第五个函数是回调函数

#%%
# -*- coding: utf-8 -*-
import cv2
import numpy as np
def nothing(x):
    pass
# 创建一副黑色图像
img=np.zeros((300,512,3),np.uint8)
cv2.namedWindow('image')
cv2.createTrackbar('R','image',0,255,nothing)
cv2.createTrackbar('G','image',0,255,nothing)
cv2.createTrackbar('B','image',0,255,nothing)
switch='0:OFF\n1:ON'
cv2.createTrackbar(switch,'image',0,1,nothing)

while(1):
    cv2.imshow('image',img)
    r=cv2.getTrackbarPos('R','image')
    g=cv2.getTrackbarPos('G','image')
    b=cv2.getTrackbarPos('B','image')
    s=cv2.getTrackbarPos(switch,'image')
    if s==0:
        img[:]=0
    else:
        img[:]=[b,g,r]

    k=cv2.waitKey(1)&0xFF
    if k==27:  #Esc键退出
        break
    
cv2.destroyAllWindows()

#%% [markdown]
#  # 局部图像拷贝
# 

#%%
import numpy as np
import cv2
img=cv2.imread("123.jpg")

cv2.namedWindow('image', cv2.WINDOW_NORMAL)

cropImg=img[300:400,0:100]

img[300:400,500:600]=cropImg

cv2.imshow("image",img)

cv2.waitKey(0)
cv2.destroyAllWindows()

#%% [markdown]
#  # 图像相加拷

#%%
import numpy as np
import cv2
img=cv2.imread("123.jpg")

cv2.namedWindow('image', cv2.WINDOW_NORMAL)

cropImg1=img[300:400,0:100]
cropImg2=img[200:300,0:100]

img[300:400,500:600]=cv2.add(cropImg1,cropImg2)

cv2.imshow("image",img)

cv2.waitKey(0)
cv2.destroyAllWindows()

#%% [markdown]
#  # 图像加权相加
#  dst=alpa*img1+beta*img2+gama

#%%
import numpy as np
import cv2
img=cv2.imread("123.jpg")

cv2.namedWindow('image', cv2.WINDOW_NORMAL)

cropImg1=img[300:400,0:100]
cropImg2=img[200:300,0:100]

img[300:400,500:600]=cv2.addWeighted(cropImg1,0.9,cropImg2,0.1,0)

cv2.imshow("image",img)

cv2.waitKey(0)
cv2.destroyAllWindows()

#%% [markdown]
#  # 将Logo 变成灰度图像，用阈值得到轮廓，取反
#  ![](batgo.png)
# 

#%%
# -*- coding: utf-8 -*-
import cv2
import numpy as np
# 加载图像
img1 = cv2.imread('123.jpg')
img2 = cv2.imread('batgo.png')

#灰度图像，然后用阈值得到轮廓
img2gray = cv2.cvtColor(img2,cv2.COLOR_BGR2GRAY)
ret, mask = cv2.threshold(img2gray, 175, 255, cv2.THRESH_BINARY)
#按位取反not
invmask=cv2.bitwise_not(mask)

cv2.imshow("logoimg",img2)
cv2.imshow("greyimage",img2gray)
cv2.imshow("image",mask)
cv2.imshow("invimage",invmask)


cv2.waitKey(0)
cv2.destroyAllWindows()

#%% [markdown]
#  ## 在窗口中心画9个方格
#%% [markdown]
#  # x,y 测试

#%%
import numpy as np
import cv2
cap=cv2.VideoCapture(0)

ret,frame = cap.read()

SIZE=100

#屏幕竖的方向
L=len(frame)

#屏幕横的方向
W=len(frame[0])

print(L,W)

X0=int(W/2-1.5*SIZE)
Y0=int(L/2-1.5*SIZE)

while(True):
    ret,frame = cap.read()
    cv2.rectangle(frame,(630,230),(639,239),(255,128,255),5)  
    cv2.imshow('my_frame',frame)
    if cv2.waitKey(1000)&0xFF==ord('q'):
        break
cap.release()
cv2.destroyAllWindows()

#%% [markdown]
#  # 中间画9个方格

#%%
import numpy as np
import cv2

cap=cv2.VideoCapture(0)
ret,frame = cap.read()

L=len(frame)
W=len(frame[0])

print(L,W)

SIZE=100

X0=int(W/2-1.5*SIZE)
Y0=int(L/2-1.5*SIZE)

while(True):
    ret,frame = cap.read()
    for i in range(3):
        for j in range(3):
            cv2.rectangle(frame,(i*SIZE+X0,j*SIZE+Y0),(i*SIZE+SIZE+X0,j*SIZE+SIZE+Y0),(255,128,255),5)  
    cv2.imshow('frame',frame)
    if cv2.waitKey(1000)&0xFF==ord('q'):
        break
cap.release()
cv2.destroyAllWindows()

#%% [markdown]
#  # 鼠标双击则打印出来x，y

#%%
import numpy as np
import cv2

cap=cv2.VideoCapture(0)
ret,frame = cap.read()

L=len(frame)
W=len(frame[0])

print(L,W)

SIZE=100

X0=int(W/2-1.5*SIZE)
Y0=int(L/2-1.5*SIZE)

def mouse_dclick(event,x,y,flags,param):
    if event==cv2.EVENT_LBUTTONDBLCLK:
        print("get double click",x,y)
        
# 创建图像与窗口并将窗口与回调函数绑定
cv2.namedWindow('frame')
cv2.setMouseCallback('frame',mouse_dclick)

while(True):
    ret,frame = cap.read()
    for i in range(3):
        for j in range(3):
            cv2.rectangle(frame,(i*SIZE+X0,j*SIZE+Y0),(i*SIZE+SIZE+X0,j*SIZE+SIZE+Y0),(255,128,255),5)  
    cv2.imshow('frame',frame)
    if cv2.waitKey(1000)&0xFF==ord('q'):
        break
cap.release()
cv2.destroyAllWindows()

#%% [markdown]
#  # 双击鼠标在棋盘相应的位置记录

#%%
import numpy as np
import cv2

cap=cv2.VideoCapture(0)
ret,frame = cap.read()

L=len(frame)
W=len(frame[0])

print(L,W)

SIZE=100

X0=int(W/2-1.5*SIZE)
Y0=int(L/2-1.5*SIZE)

chessboard=[[0,0,0],[0,0,0],[0,0,0]]

print(chessboard)

def mouse_dclick(event,x,y,flags,param):
    if event==cv2.EVENT_LBUTTONDBLCLK:
        print("get double click",x,y)
        if x>X0 and y>Y0 and x<(X0+SIZE*3) and y<(Y0+SIZE*3):
            i=int((x-X0)/SIZE)
            j=int((y-Y0)/SIZE)
            print(i,j)
            chessboard[i][j]=1
            print(chessboard)
    
        
# 创建图像与窗口并将窗口与回调函数绑定
cv2.namedWindow('frame')
cv2.setMouseCallback('frame',mouse_dclick)

while(True):
    ret,frame = cap.read()
    for i in range(3):
        for j in range(3):
            cv2.rectangle(frame,(i*SIZE+X0,j*SIZE+Y0),(i*SIZE+SIZE+X0,j*SIZE+SIZE+Y0),(255,128,255),5)  
    cv2.imshow('frame',frame)
    if cv2.waitKey(1000)&0xFF==ord('q'):
        break
cap.release()
cv2.destroyAllWindows()

#%% [markdown]
#  # 双击鼠标在棋盘相应的位置记录，如果有棋子则画圆

#%%
import numpy as np
import cv2

cap=cv2.VideoCapture(0)
ret,frame = cap.read()

L=len(frame)
W=len(frame[0])

print(L,W)

SIZE=100

X0=int(W/2-1.5*SIZE)
Y0=int(L/2-1.5*SIZE)


chessboard=[[0,0,0],[0,0,0],[0,0,0]]

print(chessboard)

def mouse_dclick(event,x,y,flags,param):
    if event==cv2.EVENT_LBUTTONDBLCLK:
        print("get double click",x,y)
        if x>X0 and y>Y0 and x<(X0+SIZE*3) and y<(Y0+SIZE*3):
            i=int((x-X0)/SIZE)
            j=int((y-Y0)/SIZE)
            print(i,j)
            chessboard[i][j]=1
            print(chessboard)
    
        
# 创建图像与窗口并将窗口与回调函数绑定
cv2.namedWindow('frame')
cv2.setMouseCallback('frame',mouse_dclick)

while(True):
    ret,frame = cap.read()
    for i in range(3):
        for j in range(3):
            cv2.rectangle(frame,(i*SIZE+X0,j*SIZE+Y0),(i*SIZE+SIZE+X0,j*SIZE+SIZE+Y0),(255,128,255),2)
            if chessboard[i][j]==1:
                R=int(SIZE/2)
                cv2.circle(frame,(i*SIZE+X0+R,j*SIZE+Y0+R),R,(255,0,0),-1)
                
    cv2.imshow('frame',frame)
    if cv2.waitKey(1000)&0xFF==ord('q'):
        break
cap.release()
cv2.destroyAllWindows()

#%% [markdown]
#  # 显示所有事件

#%%
import cv2

#显示所有事件
events=[i for i in dir(cv2) if 'EVENT'in i]
print(events)

#%% [markdown]
#  # 双击鼠标右键棋盘相应的位置记录2。死循环里如果有2则画空心圆

#%%
import numpy as np
import cv2

cap=cv2.VideoCapture(0)
ret,frame = cap.read()

L=len(frame)
W=len(frame[0])

print(L,W)

SIZE=100

X0=int(W/2-1.5*SIZE)
Y0=int(L/2-1.5*SIZE)

R=int(SIZE/2)

chessboard=[[0,0,0],[0,0,0],[0,0,0]]

print(chessboard)
def mouse_dclick(event,x,y,flags,param):
    if x>X0 and y>Y0 and x<(X0+SIZE*3) and y<(Y0+SIZE*3):
        i=int((x-X0)/SIZE)
        j=int((y-Y0)/SIZE)
        if event == cv2.EVENT_LBUTTONDBLCLK:
            chessboard[i][j]=1
        elif event==cv2.EVENT_RBUTTONDBLCLK:
            chessboard[i][j]=2
# 创建图像与窗口并将窗口与回调函数绑定
cv2.namedWindow('frame')
cv2.setMouseCallback('frame',mouse_dclick)
while(True):
    ret,frame = cap.read()
    #画棋盘和棋子
    for i in range(3):
        for j in range(3):
            cv2.rectangle(frame,(i*SIZE+X0,j*SIZE+Y0),(i*SIZE+SIZE+X0,j*SIZE+SIZE+Y0),(255,128,255),2)
            if chessboard[i][j]==1:
                cv2.circle(frame,(i*SIZE+X0+R,j*SIZE+Y0+R),R,(255,0,0),-1)
            elif chessboard[i][j]==2:
                cv2.circle(frame,(i*SIZE+X0+R,j*SIZE+Y0+R),R,(255,0,0),3)
                
    cv2.imshow('frame',frame)
    if cv2.waitKey(1000)&0xFF==ord('q'):
        break
cap.release()
cv2.destroyAllWindows()

#%% [markdown]
#  # 只有没有摆过棋子的地方才能摆棋子

#%%
import numpy as np
import cv2

cap=cv2.VideoCapture(0)
ret,frame = cap.read()

L=len(frame)
W=len(frame[0])

print(L,W)

SIZE=100

X0=int(W/2-1.5*SIZE)
Y0=int(L/2-1.5*SIZE)

R=int(SIZE/2)

chessboard=[[0,0,0],[0,0,0],[0,0,0]]

print(chessboard)

def mouse_dclick(event,x,y,flags,param):
    if x>X0 and y>Y0 and x<(X0+SIZE*3) and y<(Y0+SIZE*3):
        i=int((x-X0)/SIZE)
        j=int((y-Y0)/SIZE)
        if chessboard[i][j]==0:
            if event == cv2.EVENT_LBUTTONDBLCLK:
                print("get L")
                chessboard[i][j]=1
            elif event==cv2.EVENT_RBUTTONDBLCLK:
                chessboard[i][j]=2
                print("get R")
        
# 创建图像与窗口并将窗口与回调函数绑定
cv2.namedWindow('frame')
cv2.setMouseCallback('frame',mouse_dclick)

while(True):
    ret,frame = cap.read()
    #画棋盘和棋子
    for i in range(3):
        for j in range(3):
            cv2.rectangle(frame,(i*SIZE+X0,j*SIZE+Y0),(i*SIZE+SIZE+X0,j*SIZE+SIZE+Y0),(255,128,255),2)
            if chessboard[i][j]==1:
                cv2.circle(frame,(i*SIZE+X0+R,j*SIZE+Y0+R),R,(255,0,0),-1)
            elif chessboard[i][j]==2:
                cv2.circle(frame,(i*SIZE+X0+R,j*SIZE+Y0+R),R,(255,0,0),3)
                
    cv2.imshow('frame',frame)
    if cv2.waitKey(1000)&0xFF==ord('q'):
        break
cap.release()
cv2.destroyAllWindows()

#%% [markdown]
#  # 两位棋手轮流摆棋子

#%%
import numpy as np
import cv2

cap=cv2.VideoCapture(0)
ret,frame = cap.read()

L=len(frame)
W=len(frame[0])

print(L,W)

SIZE=100


X0=int(W/2-1.5*SIZE)
Y0=int(L/2-1.5*SIZE)

R=int(SIZE/2)

chessboard=[[0,0,0],[0,0,0],[0,0,0]]
print(chessboard)

playsteps=0

def mouse_dclick(event,x,y,flags,param):
    global playsteps
    if event == cv2.EVENT_LBUTTONDBLCLK:
        if x>X0 and y>Y0 and x<(X0+SIZE*3) and y<(Y0+SIZE*3):
            i=int((x-X0)/SIZE)
            j=int((y-Y0)/SIZE)
            if chessboard[i][j]==0:
                player=playsteps%2+1
                print("mc",player)
                chessboard[i][j]=player
                playsteps+=1
 
# 创建图像与窗口并将窗口与回调函数绑定
cv2.namedWindow('frame')
cv2.setMouseCallback('frame',mouse_dclick)

while(True):
    ret,frame = cap.read()
    #画棋盘和棋子
    for i in range(3):
        for j in range(3):
            cv2.rectangle(frame,(i*SIZE+X0,j*SIZE+Y0),(i*SIZE+SIZE+X0,j*SIZE+SIZE+Y0),(255,128,255),2)
            if chessboard[i][j]==1:
                cv2.circle(frame,(i*SIZE+X0+R,j*SIZE+Y0+R),R,(255,0,0),-1)
            elif chessboard[i][j]==2:
                cv2.circle(frame,(i*SIZE+X0+R,j*SIZE+Y0+R),R,(255,0,0),3)

    cv2.imshow('frame',frame)
        
    if cv2.waitKey(1000)&0xFF==ord('q'):
        break
    
cap.release()
cv2.destroyAllWindows()

#%% [markdown]
#  # 判断横竖行的输赢

#%%
import numpy as np
import cv2

cap=cv2.VideoCapture(0)
ret,frame = cap.read()

L=len(frame)
W=len(frame[0])

print(L,W)

SIZE=100


X0=int(W/2-1.5*SIZE)
Y0=int(L/2-1.5*SIZE)

R=int(SIZE/2)

chessboard=[[0,0,0],[0,0,0],[0,0,0]]
print(chessboard)

playsteps=0

def mouse_dclick(event,x,y,flags,param):
    global playsteps
    if event == cv2.EVENT_LBUTTONDBLCLK:
        if x>X0 and y>Y0 and x<(X0+SIZE*3) and y<(Y0+SIZE*3):
            i=int((x-X0)/SIZE)
            j=int((y-Y0)/SIZE)
            if chessboard[i][j]==0:
                player=playsteps%2+1
                print("mc",player)
                chessboard[i][j]=player
                playsteps+=1
 
# 创建图像与窗口并将窗口与回调函数绑定
cv2.namedWindow('frame')
cv2.setMouseCallback('frame',mouse_dclick)

while(True):
    ret,frame = cap.read()
    #画棋盘和棋子
    for i in range(3):
        for j in range(3):
            cv2.rectangle(frame,(i*SIZE+X0,j*SIZE+Y0),(i*SIZE+SIZE+X0,j*SIZE+SIZE+Y0),(255,128,255),2)
            if chessboard[i][j]==1:
                cv2.circle(frame,(i*SIZE+X0+R,j*SIZE+Y0+R),R,(255,0,0),-1)
            elif chessboard[i][j]==2:
                cv2.circle(frame,(i*SIZE+X0+R,j*SIZE+Y0+R),R,(255,0,0),3)

    cv2.imshow('frame',frame)

    #判断输赢，检查每行
    winner=0
    for i in range(3):
        counter1=0
        counter2=0
        for j in range(3):
            if chessboard[i][j]==1:
                counter1+=1
            elif chessboard[i][j]==2:
                counter2+=1
        if counter1==3:
            winner=1
            break
        elif counter2==3:
            winner=2
            break
    
    if winner !=0:
        print("winner=",winner)
        break
    # 判断输赢，坚持每列
    for j in range(3):
        counter1=0
        counter2=0
        for i in range(3):
            if chessboard[i][j]==1:
                counter1+=1
            elif chessboard[i][j]==2:
                counter2+=1
        if counter1==3:
            winner=1
            break
        elif counter2==3:
            winner=2
            break
        
    if winner !=0:
        print("winner=",winner)
        break
  
    if cv2.waitKey(1000)&0xFF==ord('q'):
        break

font=cv2.FONT_HERSHEY_SIMPLEX
cv2.putText(frame,'Winnner '+str(winner),(160,70), font, 2,(255,255,255),4)
cv2.imshow("frame",frame)
cv2.waitKey(5000)
cap.release()
cv2.destroyAllWindows()

#%% [markdown]
# 
#  # 挑战：判断横竖行和对角线的输赢

#%%
import numpy as np
import cv2

cap=cv2.VideoCapture(0)
ret,frame = cap.read()

L=len(frame)
W=len(frame[0])

print(L,W)

SIZE=100


X0=int(W/2-1.5*SIZE)
Y0=int(L/2-1.5*SIZE)

R=int(SIZE/2)

chessboard=[[0,0,0],[0,0,0],[0,0,0]]
print(chessboard)

playsteps=0

def mouse_dclick(event,x,y,flags,param):
    global playsteps
    if event == cv2.EVENT_LBUTTONDBLCLK:
        if x>X0 and y>Y0 and x<(X0+SIZE*3) and y<(Y0+SIZE*3):
            i=int((x-X0)/SIZE)
            j=int((y-Y0)/SIZE)
            if chessboard[i][j]==0:
                player=playsteps%2+1
                print("mc",player)
                chessboard[i][j]=player
                playsteps+=1
 
# 创建图像与窗口并将窗口与回调函数绑定
cv2.namedWindow('frame')
cv2.setMouseCallback('frame',mouse_dclick)

while(True):
    ret,frame = cap.read()
    #画棋盘和棋子
    for i in range(3):
        for j in range(3):
            cv2.rectangle(frame,(i*SIZE+X0,j*SIZE+Y0),(i*SIZE+SIZE+X0,j*SIZE+SIZE+Y0),(255,128,255),2)
            if chessboard[i][j]==1:
                cv2.circle(frame,(i*SIZE+X0+R,j*SIZE+Y0+R),R,(255,0,0),-1)
            elif chessboard[i][j]==2:
                cv2.circle(frame,(i*SIZE+X0+R,j*SIZE+Y0+R),R,(255,0,0),3)

    cv2.imshow('frame',frame)

    #判断输赢，检查每行
    winner=0
    for i in range(3):
        counter1=0
        counter2=0
        for j in range(3):
            if chessboard[i][j]==1:
                counter1+=1
            elif chessboard[i][j]==2:
                counter2+=1
        if counter1==3:
            winner=1
            break
        elif counter2==3:
            winner=2
            break
    
    if winner !=0:
        print("winner=",winner)
        break
    # 判断输赢，坚持每列
    for j in range(3):
        counter1=0
        counter2=0
        for i in range(3):
            if chessboard[i][j]==1:
                counter1+=1
            elif chessboard[i][j]==2:
                counter2+=1
        if counter1==3:
            winner=1
            break
        elif counter2==3:
            winner=2
            break
        
    if winner !=0:
        print("winner=",winner)
        break

    # 判断输赢，检查对角线。
    counter1=0
    counter2=0
    for j in range(3)
        #添加你的代码在这里      
        
        counter1+=1
        counter2+=1
    if counter1==3:
        winner=1
    elif counter2==3:
        winner=2
  
    if winner !=0:
        print("winner=",winner)
        break
        
    if cv2.waitKey(1000)&0xFF==ord('q'):
        break

font=cv2.FONT_HERSHEY_SIMPLEX
cv2.putText(frame,'Winnner '+str(winner),(160,70), font, 2,(255,255,255),4)
cv2.imshow("frame",frame)
cv2.waitKey(5000)
cap.release()
cv2.destroyAllWindows()

#%% [markdown]
#  # 使用AI 作为玩家2,AI算法为顺序搜索
#%% [markdown]
#  # 随机数生成

#%%
import random

print(int(random.uniform(0,3)))


#%%
import numpy as np
import cv2
import random

print(int(random.uniform(0,3)))

cap=cv2.VideoCapture(0)
ret,frame = cap.read()

L=len(frame)
W=len(frame[0])

print(L,W)

SIZE=100


X0=int(W/2-1.5*SIZE)
Y0=int(L/2-1.5*SIZE)

R=int(SIZE/2)

chessboard=[[0,0,0],[0,0,0],[0,0,0]]
print(chessboard)

playsteps=0

#顺序查找空格版本
def AIplayer2():
    for i in range(3):
        for j in range(3):
            if chessboard[i][j]==0:
                chessboard[i][j]=2
                return
#随机数AI版本
def AIplayerR2():
    i=0
    j=0
    trycounter=0
    while(chessboard[i][j]!=0):
        i=int(random.uniform(0,3))
        j=int(random.uniform(0,3))
        trycounter+=1
        if(trycounter>=20):
            break
        print("AIR2 play",i,j)
        if chessboard[i][j]==0:
            chessboard[i][j]=2
            return
    AIplayer2()

#j堵活二版
def AIplayerA2():
    #找竖的2，堵之
    for i in range(3):
        counter1=0
        for j in range(3):
            if chessboard[i][j]==1: 
                counter1+=1
        if counter1==2:
            for j in range(3):
                if chessboard[i][j]==0:
                    chessboard[i][j]=2
                    return

    #找横的2，堵之                    
    for j in range(3):
        counter1=0
        for i in range(3):
            if chessboard[i][j]==1: 
                counter1+=1
        if counter1==2:
            for j in range(3):
                if chessboard[i][j]==0:
                    chessboard[i][j]=2
                    return
    #没有纵横2，则随机下
    AIplayerR2()

                    
def mouse_dclick(event,x,y,flags,param):
    global playsteps
    if event == cv2.EVENT_LBUTTONDBLCLK:
        if x>X0 and y>Y0 and x<(X0+SIZE*3) and y<(Y0+SIZE*3):
            i=int((x-X0)/SIZE)
            j=int((y-Y0)/SIZE)
            if chessboard[i][j]==0:
                player=playsteps%2+1
                print("mc",player)
                chessboard[i][j]=player
                playsteps+=1
                if player==1:
                    player=playsteps%2+1
                    print("mc",player)
                    AIplayerA2()
                    playsteps+=1
 
# 创建图像与窗口并将窗口与回调函数绑定
cv2.namedWindow('frame')
cv2.setMouseCallback('frame',mouse_dclick)

while(True):
    ret,frame = cap.read()
    #画棋盘和棋子
    for i in range(3):
        for j in range(3):
            cv2.rectangle(frame,(i*SIZE+X0,j*SIZE+Y0),(i*SIZE+SIZE+X0,j*SIZE+SIZE+Y0),(255,128,255),2)
            if chessboard[i][j]==1:
                cv2.circle(frame,(i*SIZE+X0+R,j*SIZE+Y0+R),R,(255,0,0),-1)
            elif chessboard[i][j]==2:
                cv2.circle(frame,(i*SIZE+X0+R,j*SIZE+Y0+R),R,(255,0,0),3)

    cv2.imshow('frame',frame)

    #判断输赢，检查每行
    winner=0
    for i in range(3):
        counter1=0
        counter2=0
        for j in range(3):
            if chessboard[i][j]==1:
                counter1+=1
            elif chessboard[i][j]==2:
                counter2+=1
        if counter1==3:
            winner=1
            break
        elif counter2==3:
            winner=2
            break
    
    if winner !=0:
        print("winner=",winner)
        break
    # 判断输赢，坚持每列
    for j in range(3):
        counter1=0
        counter2=0
        for i in range(3):
            if chessboard[i][j]==1:
                counter1+=1
            elif chessboard[i][j]==2:
                counter2+=1
        if counter1==3:
            winner=1
            break
        elif counter2==3:
            winner=2
            break
        
    if winner !=0:
        print("winner=",winner)
        break

    # 判断输赢，检查对角线。
    counter1=0
    counter2=0
    for j in range(3):
        if chessboard[j][j]==1:
            counter1+=1
        elif chessboard[j][j]==2:
            counter2+=1
    if counter1==3:
        winner=1
    elif counter2==3:
        winner=2
    if winner !=0:
        print("winner=",winner)
        break

    # 判断输赢，检查对角线。
    counter1=0
    counter2=0
    for j in range(3):
        if chessboard[j][2-j]==1:
            counter1+=1
        elif chessboard[j][2-j]==2:
            counter2+=1
    if counter1==3:
        winner=1
    elif counter2==3:
        winner=2
    if winner !=0:
        print("winner=",winner)
        break

    if cv2.waitKey(1000)&0xFF==ord('q'):
        break

font=cv2.FONT_HERSHEY_SIMPLEX
cv2.putText(frame,'Winnner '+str(winner),(160,70), font, 2,(255,255,255),4)
cv2.imshow("frame",frame)
cv2.waitKey(5000)
cap.release()
cv2.destroyAllWindows()

#%% [markdown]
#  # 个性化的棋子

#%%
import numpy as np
import cv2
import random

print(int(random.uniform(0,3)))

cap=cv2.VideoCapture(0)
ret,frame = cap.read()

L=len(frame)
W=len(frame[0])

print(L,W)

SIZE=100


X0=int(W/2-1.5*SIZE)
Y0=int(L/2-1.5*SIZE)

R=int(SIZE/2)

chessboard=[[0,0,0],[0,0,0],[0,0,0]]
print(chessboard)

playsteps=0

#顺序查找空格版本
def AIplayer2():
    for i in range(3):
        for j in range(3):
            if chessboard[i][j]==0:
                chessboard[i][j]=2
                return
#随机数AI版本
def AIplayerR2():
    i=0
    j=0
    trycounter=0
    while(chessboard[i][j]!=0):
        i=int(random.uniform(0,3))
        j=int(random.uniform(0,3))
        trycounter+=1
        if(trycounter>=20):
            break
        print("AIR2 play",i,j)
        if chessboard[i][j]==0:
            chessboard[i][j]=2
            return
    #随机试20次没有碰到空的，则启用顺序
    AIplayer2()

#j堵活二版
def AIplayerA2():
    #找竖的2，堵之
    for i in range(3):
        counter1=0
        for j in range(3):
            if chessboard[i][j]==1: 
                counter1+=1
        if counter1==2:
            for j in range(3):
                if chessboard[i][j]==0:
                    chessboard[i][j]=2
                    return

    #找横的2，堵之                    
    for j in range(3):
        counter1=0
        for i in range(3):
            if chessboard[i][j]==1: 
                counter1+=1
        if counter1==2:
            for j in range(3):
                if chessboard[i][j]==0:
                    chessboard[i][j]=2
                    return
    #找主对角线的2，堵之  
    counter1=0
    for i in range(3):
        if chessboard[i][i]==1: 
            counter1+=1
    if counter1==2:
        for i in range(3):
            if chessboard[i][i]==0:
                chessboard[i][i]=2
                return
    #找副主对角线的2，堵之  
    counter1=0
    for i in range(3):
        if chessboard[i][2-i]==1: 
            counter1+=1
    if counter1==2:
        for i in range(3):
            if chessboard[i][2-i]==0:
                chessboard[i][2-i]=2
                return
    #纵横及对角线均没有成2的，则随机下
    AIplayerR2()

                    
def mouse_dclick(event,x,y,flags,param):
    global playsteps
    if event == cv2.EVENT_LBUTTONDBLCLK:
        if x>X0 and y>Y0 and x<(X0+SIZE*3) and y<(Y0+SIZE*3):
            i=int((x-X0)/SIZE)
            j=int((y-Y0)/SIZE)
            if chessboard[i][j]==0:
                player=playsteps%2+1
                print("mc",player)
                chessboard[i][j]=player
                playsteps+=1
                if player==1:
                    player=playsteps%2+1
                    print("mc",player)
                    AIplayerA2()
                    playsteps+=1
 
# 创建图像与窗口并将窗口与回调函数绑定
cv2.namedWindow('frame')
cv2.setMouseCallback('frame',mouse_dclick)

def mychess1(frame,xy,R):
#   cv2.circle(frame,xy,R,(255,0,0),-1)
    img=cv2.imread("face.jpg")
    x0=xy[1]-R
    y0=xy[0]-R
    frame[x0:x0+SIZE,y0:y0+SIZE]= cv2.resize(img[0:200,0:200],(SIZE,SIZE),interpolation=cv2.INTER_CUBIC)

def mychess2(frame,xy,R):
    img=cv2.imread("123.jpg")
    x0=xy[1]-R
    y0=xy[0]-R
    frame[x0:x0+SIZE,y0:y0+SIZE]= cv2.resize(img[0:400,0:600],(SIZE,SIZE),interpolation=cv2.INTER_CUBIC)

    
while(True):
    ret,frame = cap.read()
    #画棋盘和棋子
    for i in range(3):
        for j in range(3):
            cv2.rectangle(frame,(i*SIZE+X0,j*SIZE+Y0),(i*SIZE+SIZE+X0,j*SIZE+SIZE+Y0),(255,128,255),2)
            if chessboard[i][j]==1:
                cv2.circle(frame,(i*SIZE+X0+R,j*SIZE+Y0+R),R,(255,0,0),-1)
                mychess1(frame,(i*SIZE+X0+R,j*SIZE+Y0+R),R)
            elif chessboard[i][j]==2:
                cv2.circle(frame,(i*SIZE+X0+R,j*SIZE+Y0+R),R,(255,0,0),3)
                mychess2(frame,(i*SIZE+X0+R,j*SIZE+Y0+R),R)

    cv2.imshow('frame',frame)

    #判断输赢，检查每行
    winner=0
    for i in range(3):
        counter1=0
        counter2=0
        for j in range(3):
            if chessboard[i][j]==1:
                counter1+=1
            elif chessboard[i][j]==2:
                counter2+=1
        if counter1==3:
            winner=1
            break
        elif counter2==3:
            winner=2
            break
    
    if winner !=0:
        print("winner=",winner)
        break
    # 判断输赢，坚持每列
    for j in range(3):
        counter1=0
        counter2=0
        for i in range(3):
            if chessboard[i][j]==1:
                counter1+=1
            elif chessboard[i][j]==2:
                counter2+=1
        if counter1==3:
            winner=1
            break
        elif counter2==3:
            winner=2
            break
        
    if winner !=0:
        print("winner=",winner)
        break

    # 判断输赢，检查对角线。
    counter1=0
    counter2=0
    for j in range(3):
        if chessboard[j][j]==1:
            counter1+=1
        elif chessboard[j][j]==2:
            counter2+=1
    if counter1==3:
        winner=1
    elif counter2==3:
        winner=2
    if winner !=0:
        print("winner=",winner)
        break

    # 判断输赢，检查对角线。
    counter1=0
    counter2=0
    for j in range(3):
        if chessboard[j][2-j]==1:
            counter1+=1
        elif chessboard[j][2-j]==2:
            counter2+=1
    if counter1==3:
        winner=1
    elif counter2==3:
        winner=2
    if winner !=0:
        print("winner=",winner)
        break

    if cv2.waitKey(1000)&0xFF==ord('q'):
        break

font=cv2.FONT_HERSHEY_SIMPLEX
cv2.putText(frame,'Winnner '+str(winner),(160,70), font, 2,(255,255,255),4)
cv2.imshow("frame",frame)
cv2.waitKey(5000)
cap.release()
cv2.destroyAllWindows()

#%% [markdown]
#  # 人脸检测

#%%
import numpy as np
import cv2

face_cascade = cv2.CascadeClassifier('D:\python36\Lib\site-packages\cv2\data\haarcascade_frontalface_default.xml')
eye_cascade = cv2.CascadeClassifier('D:\python36\Lib\site-packages\cv2\data\haarcascade_eye.xml')

img = cv2.imread('3man.jpg')
gray = cv2.cvtColor(img, cv2.COLOR_BGR2GRAY)
cv2.imshow('img',gray)
cv2.waitKey(0)

faces = face_cascade.detectMultiScale(gray, 1.3, 5)

for (x,y,w,h) in faces:
    faces = face_cascade.detectMultiScale(gray, 1.3, 5)
    for (x,y,w,h) in faces:
        img = cv2.rectangle(img,(x,y),(x+w,y+h),(255,0,0),2)
        roi_gray = gray[y:y+h, x:x+w]
        roi_color = img[y:y+h, x:x+w]
        eyes = eye_cascade.detectMultiScale(roi_gray)
        for (ex,ey,ew,eh) in eyes:
            cv2.rectangle(roi_color,(ex,ey),(ex+ew,ey+eh),(0,255,0),2)
cv2.imshow('img',img)
cv2.waitKey(0)
cv2.destroyAllWindows()

#%% [markdown]
#  # 从摄像头检测人脸并保存
# 

#%%
import numpy as np
import cv2

face_cascade = cv2.CascadeClassifier('D:\python36\Lib\site-packages\cv2\data\haarcascade_frontalface_default.xml')
eye_cascade = cv2.CascadeClassifier('D:\python36\Lib\site-packages\cv2\data\haarcascade_eye.xml')


cap=cv2.VideoCapture(0)
ret,frame = cap.read()
L=len(frame)
W=len(frame[0])

img = frame
gray = cv2.cvtColor(img, cv2.COLOR_BGR2GRAY)
cv2.imshow('img',gray)
cv2.waitKey(0)

faces = face_cascade.detectMultiScale(gray, 1.3, 5)

for (x,y,w,h) in faces:
    faces = face_cascade.detectMultiScale(gray, 1.3, 5)
    for (x,y,w,h) in faces:
        img = cv2.rectangle(img,(x,y),(x+w,y+h),(255,0,0),2)
        roi_gray = gray[y:y+h, x:x+w]
        roi_color = img[y:y+h, x:x+w]
        eyes = eye_cascade.detectMultiScale(roi_gray)
        for (ex,ey,ew,eh) in eyes:
            cv2.rectangle(roi_color,(ex,ey),(ex+ew,ey+eh),(0,255,0),2)
            
cv2.imshow('img',img)
cv2.waitKey(0)
cv2.destroyAllWindows()

#%% [markdown]
#  # 不断检测摄像头中的人脸直到满意按s键保存

#%%
import numpy as np
import cv2

face_cascade = cv2.CascadeClassifier('D:\python36\Lib\site-packages\cv2\data\haarcascade_frontalface_default.xml')
eye_cascade = cv2.CascadeClassifier('D:\python36\Lib\site-packages\cv2\data\haarcascade_eye.xml')

cap=cv2.VideoCapture(0)

while(True):
    ret,frame = cap.read()    
    img = frame
    gray = cv2.cvtColor(img, cv2.COLOR_BGR2GRAY)
    faces = face_cascade.detectMultiScale(gray, 1.3, 5)
    
    for (x,y,w,h) in faces:
        faces = face_cascade.detectMultiScale(gray, 1.3, 5)
        for (x,y,w,h) in faces:
            img = cv2.rectangle(img,(x,y),(x+w,y+h),(255,0,0),2)
            roi_gray = gray[y:y+h, x:x+w]
            roi_color = img[y:y+h, x:x+w]
            cv2.imshow('roi_color',roi_color)
            cv2.imwrite('face.jpg',roi_color)
            eyes = eye_cascade.detectMultiScale(roi_gray)
            for (ex,ey,ew,eh) in eyes:
                cv2.rectangle(roi_color,(ex,ey),(ex+ew,ey+eh),(0,255,0),2)
                
    cv2.imshow('img',img)
    if cv2.waitKey(1000)&0xFF==ord('s'):
        break
cv2.destroyAllWindows()

#%% [markdown]
#  # 人脸检测下井字棋大结局代码

#%%
import numpy as np
import cv2
import random

face_cascade = cv2.CascadeClassifier('D:\python36\Lib\site-packages\cv2\data\haarcascade_frontalface_default.xml')
eye_cascade = cv2.CascadeClassifier('D:\python36\Lib\site-packages\cv2\data\haarcascade_eye.xml')

#先检测人脸，存到face.jpg中
cap=cv2.VideoCapture(0)

while(True):
    ret,frame = cap.read()    
    img = frame
    gray = cv2.cvtColor(img, cv2.COLOR_BGR2GRAY)
    faces = face_cascade.detectMultiScale(gray, 1.3, 5)
    
    for (x,y,w,h) in faces:
        faces = face_cascade.detectMultiScale(gray, 1.3, 5)
        for (x,y,w,h) in faces:
            img = cv2.rectangle(img,(x,y),(x+w,y+h),(255,0,0),2)
            roi_gray = gray[y:y+h, x:x+w]
            roi_color = img[y:y+h, x:x+w]
            cv2.imshow('roi_color',roi_color)
            cv2.imwrite('face.jpg',roi_color)
            eyes = eye_cascade.detectMultiScale(roi_gray)
            for (ex,ey,ew,eh) in eyes:
                cv2.rectangle(roi_color,(ex,ey),(ex+ew,ey+eh),(0,255,0),2)
                
    cv2.imshow('img',img)
    # 按s键保存退出
    if cv2.waitKey(1000)&0xFF==ord('s'):
        break
cv2.destroyAllWindows()

#下棋程序开始
ret,frame = cap.read()

L=len(frame)
W=len(frame[0])

print(L,W)

SIZE=100

X0=int(W/2-1.5*SIZE)
Y0=int(L/2-1.5*SIZE)

R=int(SIZE/2)

chessboard=[[0,0,0],[0,0,0],[0,0,0]]
print(chessboard)

playsteps=0

#顺序查找空格版本
def AIplayer2():
    for i in range(3):
        for j in range(3):
            if chessboard[i][j]==0:
                chessboard[i][j]=2
                return
#随机数AI版本
def AIplayerR2():
    i=0
    j=0
    trycounter=0
    while(chessboard[i][j]!=0):
        i=int(random.uniform(0,3))
        j=int(random.uniform(0,3))
        trycounter+=1
        if(trycounter>=20):
            break
        print("AIR2 play",i,j)
        if chessboard[i][j]==0:
            chessboard[i][j]=2
            return
    #随机试20次没有碰到空的，则启用顺序
    AIplayer2()

#j堵活二版
def AIplayerA2():
    #找竖的2，堵之
    for i in range(3):
        counter1=0
        for j in range(3):
            if chessboard[i][j]==1: 
                counter1+=1
        if counter1==2:
            for j in range(3):
                if chessboard[i][j]==0:
                    chessboard[i][j]=2
                    return

    #找横的2，堵之                    
    for j in range(3):
        counter1=0
        for i in range(3):
            if chessboard[i][j]==1: 
                counter1+=1
        if counter1==2:
            for j in range(3):
                if chessboard[i][j]==0:
                    chessboard[i][j]=2
                    return
    #找主对角线的2，堵之  
    counter1=0
    for i in range(3):
        if chessboard[i][i]==1: 
            counter1+=1
    if counter1==2:
        for i in range(3):
            if chessboard[i][i]==0:
                chessboard[i][i]=2
                return
    #找副主对角线的2，堵之  
    counter1=0
    for i in range(3):
        if chessboard[i][2-i]==1: 
            counter1+=1
    if counter1==2:
        for i in range(3):
            if chessboard[i][2-i]==0:
                chessboard[i][2-i]=2
                return
    #纵横及对角线均没有成2的，则随机下
    AIplayerR2()

                    
def mouse_dclick(event,x,y,flags,param):
    global playsteps
    if event == cv2.EVENT_LBUTTONDBLCLK:
        if x>X0 and y>Y0 and x<(X0+SIZE*3) and y<(Y0+SIZE*3):
            i=int((x-X0)/SIZE)
            j=int((y-Y0)/SIZE)
            if chessboard[i][j]==0:
                player=playsteps%2+1
                print("mc",player)
                chessboard[i][j]=player
                playsteps+=1
                if player==1:
                    player=playsteps%2+1
                    print("mc",player)
                    AIplayerA2()
                    playsteps+=1
 
# 创建图像与窗口并将窗口与回调函数绑定
cv2.namedWindow('frame')
cv2.setMouseCallback('frame',mouse_dclick)

def mychess1(frame,xy,R):
#   cv2.circle(frame,xy,R,(255,0,0),-1)
    img=cv2.imread("face.jpg")
    x0=xy[1]-R
    y0=xy[0]-R
    frame[x0:x0+SIZE,y0:y0+SIZE]= cv2.resize(img[0:200,0:200],(SIZE,SIZE),interpolation=cv2.INTER_CUBIC)

def mychess2(frame,xy,R):
    img=cv2.imread("123.jpg")
    x0=xy[1]-R
    y0=xy[0]-R
    frame[x0:x0+SIZE,y0:y0+SIZE]= cv2.resize(img[0:400,0:600],(SIZE,SIZE),interpolation=cv2.INTER_CUBIC)

    
while(True):
    ret,frame = cap.read()
    #画棋盘和棋子
    for i in range(3):
        for j in range(3):
            cv2.rectangle(frame,(i*SIZE+X0,j*SIZE+Y0),(i*SIZE+SIZE+X0,j*SIZE+SIZE+Y0),(255,128,255),2)
            if chessboard[i][j]==1:
                cv2.circle(frame,(i*SIZE+X0+R,j*SIZE+Y0+R),R,(255,0,0),-1)
                mychess1(frame,(i*SIZE+X0+R,j*SIZE+Y0+R),R)
            elif chessboard[i][j]==2:
                cv2.circle(frame,(i*SIZE+X0+R,j*SIZE+Y0+R),R,(255,0,0),3)
                mychess2(frame,(i*SIZE+X0+R,j*SIZE+Y0+R),R)

    cv2.imshow('frame',frame)

    #判断输赢，检查每行
    winner=0
    for i in range(3):
        counter1=0
        counter2=0
        for j in range(3):
            if chessboard[i][j]==1:
                counter1+=1
            elif chessboard[i][j]==2:
                counter2+=1
        if counter1==3:
            winner=1
            break
        elif counter2==3:
            winner=2
            break
    
    if winner !=0:
        print("winner=",winner)
        break
    # 判断输赢，坚持每列
    for j in range(3):
        counter1=0
        counter2=0
        for i in range(3):
            if chessboard[i][j]==1:
                counter1+=1
            elif chessboard[i][j]==2:
                counter2+=1
        if counter1==3:
            winner=1
            break
        elif counter2==3:
            winner=2
            break
        
    if winner !=0:
        print("winner=",winner)
        break

    # 判断输赢，检查对角线。
    counter1=0
    counter2=0
    for j in range(3):
        if chessboard[j][j]==1:
            counter1+=1
        elif chessboard[j][j]==2:
            counter2+=1
    if counter1==3:
        winner=1
    elif counter2==3:
        winner=2
    if winner !=0:
        print("winner=",winner)
        break

    # 判断输赢，检查对角线。
    counter1=0
    counter2=0
    for j in range(3):
        if chessboard[j][2-j]==1:
            counter1+=1
        elif chessboard[j][2-j]==2:
            counter2+=1
    if counter1==3:
        winner=1
    elif counter2==3:
        winner=2
    if winner !=0:
        print("winner=",winner)
        break

    if cv2.waitKey(1000)&0xFF==ord('q'):
        break

font=cv2.FONT_HERSHEY_SIMPLEX
cv2.putText(frame,'Winnner '+str(winner),(160,70), font, 2,(255,255,255),4)
cv2.imshow("frame",frame)
cv2.waitKey(10000)
cap.release()
cv2.destroyAllWindows()

#%% [markdown]
#  # 学一点点网络爬虫
#%% [markdown]
#  # 安装软件
#  ## 打开cmd或powershell
# 
#  pip install urllib3

#%%
import urllib3

http = urllib3.PoolManager()
resp = http.request('GET', 'http://www.weather.com.cn/weather/101020100.shtml')
resp=urlopen('http://www.weather.com.cn/weather/101020100.shtml')


#%%
print(resp.status) # 200


#%%
print(resp.data.decode())

#%% [markdown]
#  # 用浏览器打开看看网页长什么样
#  http://www.weather.com.cn/weather/101020100.shtml
# 
#%% [markdown]
#  # 用谷歌chrome浏览器右键，产看源代码
#%% [markdown]
#  # 要想找得不那么辛苦，需要安装另一个工具
#  pip install bs4

#%%
from bs4 import BeautifulSoup
import re


#%%
soup=BeautifulSoup(resp.data)
tagData=soup.find('ul',class_="t clearfix")
print(tagData)

#%% [markdown]
#  # 思考一下如何找到日期

#%%
dates=tagData.h1.string
print(dates)


#%%
tagToday=soup.find('p',class_="tem")
print(tagToday)


#%%
# 试试看有没有span


#%%
temphigh=tagToday.span.string
print(temphigh)


#%%
temphigh=tagToday.find_next('p',class_="tem").span.string


#%%
print(temphigh)


#%%
templow=tagToday.i.string


#%%
print(templow)


#%%
weather=soup.find('p',class_="wea").string


#%%
print(weather)


#%%
tagWind=soup.find('p',class_="win")
winL=tagWind.i.string


#%%
print(winL)

#%% [markdown]
#  # 今天是什么日期

#%%
import datetime 
today = datetime.date.today() 


#%%
print(today)


#%% [markdown]
# markdown test





