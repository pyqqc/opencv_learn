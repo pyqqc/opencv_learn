{
 "cells": [
  {
   "cell_type": "code",
   "execution_count": null,
   "metadata": {},
   "outputs": [],
   "source": [
    "print(\"hello\")"
   ]
  },
  {
   "cell_type": "markdown",
   "metadata": {},
   "source": [
    "# 学习使用PyAutoGUI和OpenCV完成游戏外挂 "
   ]
  },
  {
   "cell_type": "code",
   "execution_count": null,
   "metadata": {},
   "outputs": [],
   "source": []
  },
  {
   "cell_type": "markdown",
   "metadata": {},
   "source": [
    "## 安装包\n",
    "pip install pyautogui\n",
    "\n",
    "## 中文文档\n",
    "https://hugit.app/posts/doc-pyautogui.html\n",
    "\n",
    "## 参考文档\n",
    "https://www.jianshu.com/p/d3c83d7cb730  \n",
    "https://www.pyimagesearch.com/2018/01/01/taking-screenshots-with-opencv-and-python/"
   ]
  },
  {
   "cell_type": "markdown",
   "metadata": {},
   "source": [
    "# 测试鼠标移动"
   ]
  },
  {
   "cell_type": "code",
   "execution_count": null,
   "metadata": {},
   "outputs": [],
   "source": [
    "import pyautogui as pg\n",
    "import time\n",
    "pg.moveTo(100, 100) # 移动鼠标\n",
    "time.sleep(5)\n",
    "W, H = pg.size()\n",
    "pg.moveTo(W/2, H/2)"
   ]
  },
  {
   "cell_type": "markdown",
   "metadata": {},
   "source": [
    "# 测试鼠标点击"
   ]
  },
  {
   "cell_type": "code",
   "execution_count": null,
   "metadata": {},
   "outputs": [],
   "source": [
    "import pyautogui as pg\n",
    "import time\n",
    "pg.moveTo(580, 200) # 移动鼠标\n",
    "time.sleep(1)\n",
    "pg.click()\n",
    "time.sleep(1)\n",
    "pg.click()"
   ]
  },
  {
   "cell_type": "markdown",
   "metadata": {},
   "source": [
    "# 鼠标点击四个角"
   ]
  },
  {
   "cell_type": "code",
   "execution_count": null,
   "metadata": {},
   "outputs": [],
   "source": [
    "import pyautogui as pg\n",
    "import time\n",
    "pg.moveTo(1000, 200)\n",
    "pg.click()\n",
    "time.sleep(1)\n",
    "pg.moveTo(1000, 300) \n",
    "pg.click()\n",
    "time.sleep(1)\n",
    "pg.moveTo(1100, 300) \n",
    "pg.click()\n",
    "time.sleep(1)\n",
    "pg.moveTo(1100, 200) \n",
    "pg.click()\n",
    "time.sleep(1)\n",
    "pg.moveTo(1000, 200) "
   ]
  },
  {
   "cell_type": "markdown",
   "metadata": {},
   "source": [
    "# 鼠标左键压下选中矩形区域"
   ]
  },
  {
   "cell_type": "code",
   "execution_count": null,
   "metadata": {},
   "outputs": [],
   "source": [
    "import pyautogui as pg\n",
    "import time\n",
    "\n",
    "pg.moveTo(1000, 200)\n",
    "pg.mouseDown()\n",
    "time.sleep(2)\n",
    "pg.moveTo(1100, 300) \n",
    "time.sleep(2)\n",
    "pg.mouseUp()\n"
   ]
  },
  {
   "cell_type": "markdown",
   "metadata": {},
   "source": [
    "# 鼠标左键压下选中矩形区域更简单的写法"
   ]
  },
  {
   "cell_type": "code",
   "execution_count": null,
   "metadata": {},
   "outputs": [],
   "source": [
    "import pyautogui as pg\n",
    "import time\n",
    "\n",
    "pg.mouseDown(x=1000,y=200)\n",
    "time.sleep(1)\n",
    "pg.moveTo(1100,300)\n",
    "time.sleep(1)\n",
    "pg.mouseUp()\n"
   ]
  },
  {
   "cell_type": "markdown",
   "metadata": {},
   "source": [
    "# 鼠标左键压下选中矩形区域,然后在附近点右键"
   ]
  },
  {
   "cell_type": "code",
   "execution_count": null,
   "metadata": {},
   "outputs": [],
   "source": [
    "import pyautogui as pg\n",
    "import time\n",
    "\n",
    "pg.mouseDown(x=1000,y=200)\n",
    "time.sleep(1)\n",
    "pg.moveTo(1100,300)\n",
    "time.sleep(1)\n",
    "pg.mouseUp()\n",
    "pg.click(x=11000,y=200,button='right')"
   ]
  },
  {
   "cell_type": "markdown",
   "metadata": {},
   "source": [
    "# 鼠标左键压下选中矩形区域,然后在附近点右键,键入w字符"
   ]
  },
  {
   "cell_type": "code",
   "execution_count": null,
   "metadata": {},
   "outputs": [],
   "source": [
    "import pyautogui as pg\n",
    "import time\n",
    "\n",
    "pg.mouseDown(x=1000,y=200)\n",
    "time.sleep(1)\n",
    "pg.moveTo(1100,300)\n",
    "time.sleep(1)\n",
    "pg.mouseUp()\n",
    "pg.click(x=11000,y=200,button='right')\n",
    "pg.typewrite(\"w\")"
   ]
  },
  {
   "cell_type": "markdown",
   "metadata": {},
   "source": [
    "# 屏幕拷贝"
   ]
  },
  {
   "cell_type": "code",
   "execution_count": null,
   "metadata": {},
   "outputs": [],
   "source": [
    "import pyautogui as pg\n",
    "import numpy as np\n",
    "import time\n",
    "import cv2\n",
    "pic= pg.screenshot(\"my_screenshot.png\",region=(1100,400, 300, 300))\n",
    "image = cv2.cvtColor(np.array(pic), cv2.COLOR_RGB2BGR)\n",
    "cv2.imshow(\"screenshot\",image)\n",
    "cv2.waitKey()\n",
    "cv2.destroyAllWindows()"
   ]
  },
  {
   "cell_type": "markdown",
   "metadata": {},
   "source": [
    "# 桌面画圈然后右键然后敲w然后屏幕拷贝然后用OpenCV显示"
   ]
  },
  {
   "cell_type": "code",
   "execution_count": null,
   "metadata": {},
   "outputs": [],
   "source": [
    "import pyautogui as pg\n",
    "import numpy as np\n",
    "import time\n",
    "import cv2\n",
    "\n",
    "pg.mouseDown(x=1000,y=200)\n",
    "time.sleep(1)\n",
    "pg.moveTo(1100,300)\n",
    "time.sleep(1)\n",
    "pg.mouseUp()\n",
    "pg.click(x=1100,y=200,button='right')\n",
    "pg.typewrite(\"w\")\n",
    "pg.moveTo(1000,300)\n",
    "\n",
    "pic= pg.screenshot(\"my_screenshot.png\",region=(800,200, 300, 300))\n",
    "image = cv2.cvtColor(np.array(pic), cv2.COLOR_RGB2BGR)\n",
    "cv2.imshow(\"screenshot\",image)\n",
    "cv2.waitKey()\n",
    "cv2.destroyAllWindows()"
   ]
  },
  {
   "cell_type": "markdown",
   "metadata": {},
   "source": [
    "# 查找回收站在什么地方"
   ]
  },
  {
   "cell_type": "code",
   "execution_count": null,
   "metadata": {},
   "outputs": [],
   "source": [
    "import pyautogui as pg\n",
    "import time\n",
    "\n",
    "box=pg.locateOnScreen('recyclebin.PNG')\n",
    "if box is None:\n",
    "    print(\"notfound\")\n",
    "else:\n",
    "    print(box)\n",
    "    print(box[0])\n",
    "    print(box[1])"
   ]
  },
  {
   "cell_type": "markdown",
   "metadata": {},
   "source": [
    "# 找到回收站后点右键倒垃圾"
   ]
  },
  {
   "cell_type": "code",
   "execution_count": null,
   "metadata": {},
   "outputs": [],
   "source": [
    "while True:\n",
    "    try:\n",
    "        box=pg.locateOnScreen('recyclebin.PNG')\n",
    "    except:\n",
    "      print(\"sss\")\n",
    "      continue\n",
    "    if box is None:\n",
    "        print(\"searching\")\n",
    "    else:\n",
    "        print(box)\n",
    "        break\n",
    "pg.moveTo(box[0]+10,box[1]+10)\n",
    "pg.rightClick()\n",
    "pg.click(box[0]+10,box[1]+55)\n",
    "time.sleep(1)\n",
    "pg.press(\"Y\")"
   ]
  },
  {
   "cell_type": "markdown",
   "metadata": {},
   "source": []
  },
  {
   "cell_type": "markdown",
   "metadata": {},
   "source": [
    "# 屏幕拷贝转为OpenCV格式并显示\n"
   ]
  },
  {
   "cell_type": "code",
   "execution_count": 22,
   "metadata": {},
   "outputs": [],
   "source": [
    "import cv2\n",
    "import numpy as np\n",
    "import pyautogui as pg\n",
    "\n",
    "pic=pg.screenshot(region=(1150,450, 200, 200))\n",
    "img = cv2.cvtColor(np.array(pic),cv2.COLOR_RGB2BGR)\n",
    "cv2.imshow(\"OpenCV\",img)\n",
    "cv2.waitKey()\n",
    "cv2.destroyAllWindows()"
   ]
  },
  {
   "cell_type": "markdown",
   "metadata": {},
   "source": [
    "# 用opencv在某个区域查找垃圾箱并标上红框"
   ]
  },
  {
   "cell_type": "code",
   "execution_count": 43,
   "metadata": {},
   "outputs": [],
   "source": [
    "import cv2\n",
    "import numpy as np\n",
    "import pyautogui as pg\n",
    "\n",
    "pic=pg.screenshot(region=(1150,450, 200, 200))\n",
    "img = cv2.cvtColor(np.array(pic),cv2.COLOR_RGB2BGR)\n",
    "template = cv2.imread('recyclebin.PNG')\n",
    "(h, w )= template.shape[:2]\n",
    "\n",
    "res = cv2.matchTemplate(img,template,cv2.TM_CCOEFF_NORMED)\n",
    "threshold = 0.9\n",
    "\n",
    "loc = np.where( res >= threshold)\n",
    "for pt in zip(*loc[::-1]):\n",
    "    cv2.rectangle(img, pt, (pt[0] + w, pt[1] + h), (0,0,255), 2)\n",
    "\n",
    "cv2.imshow(\"img\",img)\n",
    "cv2.waitKey()\n",
    "cv2.destroyAllWindows()"
   ]
  },
  {
   "cell_type": "markdown",
   "metadata": {},
   "source": [
    "# 找到所有的x并加红框"
   ]
  },
  {
   "cell_type": "code",
   "execution_count": 64,
   "metadata": {},
   "outputs": [],
   "source": [
    "import cv2\n",
    "import numpy as np\n",
    "import pyautogui as pg\n",
    "\n",
    "pic=pg.screenshot()\n",
    "img = cv2.cvtColor(np.array(pic),cv2.COLOR_RGB2BGR)\n",
    "template = cv2.imread('xb.PNG')\n",
    "(h, w )= template.shape[:2]\n",
    "\n",
    "res = cv2.matchTemplate(img,template,cv2.TM_CCOEFF_NORMED)\n",
    "threshold = 0.9\n",
    "\n",
    "loc = np.where( res >= threshold)\n",
    "for pt in zip(*loc[::-1]):\n",
    "    cv2.rectangle(img, pt, (pt[0] + w, pt[1] + h), (0,0,255), 2)\n",
    "resimg=cv2.resize(img,(300,200))\n",
    "cv2.imshow(\"img\",resimg)\n",
    "cv2.waitKey()\n",
    "cv2.destroyAllWindows()"
   ]
  },
  {
   "cell_type": "markdown",
   "metadata": {},
   "source": [
    "# 找到所有的x,点击自动关闭窗口"
   ]
  },
  {
   "cell_type": "code",
   "execution_count": 61,
   "metadata": {},
   "outputs": [
    {
     "name": "stdout",
     "output_type": "stream",
     "text": [
      "moveto 807 8\n",
      "moveto 1054 8\n"
     ]
    }
   ],
   "source": [
    "import cv2\n",
    "import numpy as np\n",
    "import pyautogui as pg\n",
    "import time\n",
    "\n",
    "pic=pg.screenshot()\n",
    "img = cv2.cvtColor(np.array(pic),cv2.COLOR_RGB2BGR)\n",
    "template = cv2.imread('xb.PNG')\n",
    "(h, w )= template.shape[:2]\n",
    "\n",
    "res = cv2.matchTemplate(img,template,cv2.TM_CCOEFF_NORMED)\n",
    "threshold = 0.9\n",
    "\n",
    "loc = np.where( res >= threshold)\n",
    "for pt in zip(*loc[::-1]):\n",
    "    print(\"moveto\",pt[0],pt[1])\n",
    "    time.sleep(1)\n",
    "    pg.moveTo(pt[0]+w/2,pt[1]+h/2)\n",
    "    time.sleep(1)\n",
    "    pg.click()\n"
   ]
  },
  {
   "cell_type": "markdown",
   "metadata": {},
   "source": [
    "# 测试消息弹窗"
   ]
  },
  {
   "cell_type": "code",
   "execution_count": 4,
   "metadata": {},
   "outputs": [
    {
     "data": {
      "text/plain": [
       "'OK'"
      ]
     },
     "execution_count": 4,
     "metadata": {},
     "output_type": "execute_result"
    }
   ],
   "source": [
    "import pyautogui as pg\n",
    "\n",
    "pg.alert('这个消息弹窗是文字+OK按钮')\n",
    "\n"
   ]
  },
  {
   "cell_type": "code",
   "execution_count": null,
   "metadata": {},
   "outputs": [],
   "source": []
  }
 ],
 "metadata": {
  "kernelspec": {
   "display_name": "Python 3",
   "language": "python",
   "name": "python3"
  },
  "language_info": {
   "codemirror_mode": {
    "name": "ipython",
    "version": 3
   },
   "file_extension": ".py",
   "mimetype": "text/x-python",
   "name": "python",
   "nbconvert_exporter": "python",
   "pygments_lexer": "ipython3",
   "version": "3.6.7"
  }
 },
 "nbformat": 4,
 "nbformat_minor": 2
}
